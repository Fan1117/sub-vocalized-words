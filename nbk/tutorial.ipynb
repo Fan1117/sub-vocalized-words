{
 "cells": [
  {
   "cell_type": "code",
   "execution_count": null,
   "metadata": {},
   "outputs": [],
   "source": [
    "from pyOpenBCI import OpenBCICyton\n",
    "import csv\n",
    "import random\n",
    "import time"
   ]
  },
  {
   "cell_type": "code",
   "execution_count": null,
   "metadata": {},
   "outputs": [],
   "source": [
    "wordlist = ['apple', 'dog', 'nice']\n",
    "trails_num = 10"
   ]
  },
  {
   "cell_type": "code",
   "execution_count": null,
   "metadata": {},
   "outputs": [],
   "source": [
    "def word_generator(wordlist, trails_num):\n",
    "    for word in wordlist:\n",
    "        for _ in range(trails_num):\n",
    "            yield word\n",
    "        \n",
    "word_generator = word_generator(wordlist, trails_num)"
   ]
  },
  {
   "cell_type": "code",
   "execution_count": null,
   "metadata": {},
   "outputs": [],
   "source": [
    "def save_data():\n",
    "    \"\"\"\n",
    "    This function is to save the EEG data in a csv file\n",
    "    \"\"\"\n",
    "    def save_raw(sample):\n",
    "        global fnames\n",
    "        global start\n",
    "        global begin\n",
    "        global count\n",
    "        if begin is True:\n",
    "            print(next(word_generator))\n",
    "            begin = False\n",
    "        end = time.time()\n",
    "        if end - start < 2:\n",
    "            ch = sample.channels_data\n",
    "            aux = sample.aux_data\n",
    "\n",
    "            writer.writerow({'time': end - start, 'ch1': ch[0], 'ch2': ch[1], 'ch3': ch[2], 'ch4': ch[3],\\\n",
    "                            'ch5': ch[4], 'ch6': ch[5], 'ch7': ch[6], 'ch8': ch[7],\\\n",
    "                            'aux1': aux[0], 'aux2': aux[1], 'aux3': aux[2]})\n",
    "        else:\n",
    "            writer.writerow({'time': end - start, 'ch1': 0, 'ch2': 0, 'ch3': 0, 'ch4': 0,\\\n",
    "                            'ch5': 0, 'ch6': 0, 'ch7': 0, 'ch8': 0,\\\n",
    "                            'aux1': 0, 'aux2': 0, 'aux3': 0})\n",
    "            begin = True\n",
    "            start = time.time()\n",
    "\n",
    "\n",
    "\n",
    "    board = OpenBCICyton(port='COM5', daisy=False)\n",
    "    with open('eeg.csv', 'w', newline='') as file:\n",
    "        writer = csv.DictWriter(file, fieldnames = fnames)\n",
    "        board.start_stream(save_raw)"
   ]
  },
  {
   "cell_type": "code",
   "execution_count": null,
   "metadata": {},
   "outputs": [],
   "source": [
    "count = 0\n",
    "fnames = ['time', 'ch1', 'ch2', 'ch3', 'ch4', 'ch5', 'ch6', 'ch7', 'ch8',\\\n",
    "         'aux1', 'aux2', 'aux3']\n",
    "start = time.time()\n",
    "begin = True\n",
    "save_data()"
   ]
  }
 ],
 "metadata": {
  "kernelspec": {
   "display_name": "Python 3",
   "language": "python",
   "name": "python3"
  },
  "language_info": {
   "codemirror_mode": {
    "name": "ipython",
    "version": 3
   },
   "file_extension": ".py",
   "mimetype": "text/x-python",
   "name": "python",
   "nbconvert_exporter": "python",
   "pygments_lexer": "ipython3",
   "version": "3.6.8"
  }
 },
 "nbformat": 4,
 "nbformat_minor": 2
}
